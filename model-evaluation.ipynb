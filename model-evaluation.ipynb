{
 "cells": [
  {
   "cell_type": "code",
   "execution_count": 14,
   "metadata": {},
   "outputs": [],
   "source": [
    "import pandas as pd\n",
    "import spacy\n",
    "import seaborn as sns\n",
    "from tqdm import tqdm\n",
    "import numpy as np\n",
    "import matplotlib.pyplot as plt\n",
    "from sklearn.model_selection import train_test_split"
   ]
  },
  {
   "cell_type": "code",
   "execution_count": 15,
   "metadata": {},
   "outputs": [
    {
     "name": "stderr",
     "output_type": "stream",
     "text": [
      "c:\\Users\\Naim\\AppData\\Local\\Programs\\Python\\Python39\\lib\\site-packages\\spacy\\util.py:837: UserWarning: [W095] Model 'en_core_web_sm' (3.1.0) was trained with spaCy v3.1 and may not be 100% compatible with the current version (3.3.1). If you see errors or degraded performance, download a newer compatible model or retrain your custom model with the current spaCy version. For more details and available updates, run: python -m spacy validate\n",
      "  warnings.warn(warn_msg)\n"
     ]
    }
   ],
   "source": [
    "nlp = spacy.load('en_core_web_sm', disable = ['parser', 'ner','textcat'])"
   ]
  },
  {
   "cell_type": "code",
   "execution_count": 16,
   "metadata": {},
   "outputs": [],
   "source": [
    "negation_list = ['not',\n",
    "'no',\n",
    "'don',\n",
    "'don\\'t',\n",
    "'ain',\n",
    "'aren',\n",
    "'aren\\'t',\n",
    "'couldn',\n",
    "'couldn\\'t',\n",
    "'didn',\n",
    "'didn\\'t',\n",
    "'doesn',\n",
    "'doesn\\'t',\n",
    "'hadn',\n",
    "'hadn\\'t',\n",
    "'hasn',\n",
    "'hasn\\'t',\n",
    "'haven',\n",
    "'haven\\'t',\n",
    "'isn',\n",
    "'isn\\'t',\n",
    "'mightn',\n",
    "'mightn\\'t',\n",
    "'mustn',\n",
    "'mustn\\'t',\n",
    "'needn',\n",
    "'needn\\'t',\n",
    "'shan',\n",
    "'shan\\'t',\n",
    "'shouldn',\n",
    "'shouldn\\'t',\n",
    "'wasn',\n",
    "'wasn\\'t',\n",
    "'weren',\n",
    "'weren\\'t',\n",
    "'won',\n",
    "'won\\'t',\n",
    "'wouldn',\n",
    "'wouldn\\'t']"
   ]
  },
  {
   "cell_type": "code",
   "execution_count": 17,
   "metadata": {},
   "outputs": [],
   "source": [
    "for i in negation_list:\n",
    "    nlp.vocab[i].is_stop = False"
   ]
  },
  {
   "cell_type": "code",
   "execution_count": 18,
   "metadata": {},
   "outputs": [
    {
     "data": {
      "text/html": [
       "<div>\n",
       "<style scoped>\n",
       "    .dataframe tbody tr th:only-of-type {\n",
       "        vertical-align: middle;\n",
       "    }\n",
       "\n",
       "    .dataframe tbody tr th {\n",
       "        vertical-align: top;\n",
       "    }\n",
       "\n",
       "    .dataframe thead th {\n",
       "        text-align: right;\n",
       "    }\n",
       "</style>\n",
       "<table border=\"1\" class=\"dataframe\">\n",
       "  <thead>\n",
       "    <tr style=\"text-align: right;\">\n",
       "      <th></th>\n",
       "      <th>id</th>\n",
       "      <th>text</th>\n",
       "      <th>class</th>\n",
       "      <th>sentiment</th>\n",
       "      <th>label</th>\n",
       "    </tr>\n",
       "  </thead>\n",
       "  <tbody>\n",
       "    <tr>\n",
       "      <th>0</th>\n",
       "      <td>1</td>\n",
       "      <td>It was an overall good experience. The waiting...</td>\n",
       "      <td>NaN</td>\n",
       "      <td>NaN</td>\n",
       "      <td>1Positive#Staff</td>\n",
       "    </tr>\n",
       "    <tr>\n",
       "      <th>1</th>\n",
       "      <td>2</td>\n",
       "      <td>Been there recently. Long queue as the clinic ...</td>\n",
       "      <td>NaN</td>\n",
       "      <td>NaN</td>\n",
       "      <td>1Negative#Appointments#Staff</td>\n",
       "    </tr>\n",
       "    <tr>\n",
       "      <th>2</th>\n",
       "      <td>3</td>\n",
       "      <td>If this is not your panel clinic so that you c...</td>\n",
       "      <td>NaN</td>\n",
       "      <td>NaN</td>\n",
       "      <td>1Negative#Appointments#Staff</td>\n",
       "    </tr>\n",
       "    <tr>\n",
       "      <th>3</th>\n",
       "      <td>4</td>\n",
       "      <td>Waited for more than 2 hours just to vist a do...</td>\n",
       "      <td>NaN</td>\n",
       "      <td>NaN</td>\n",
       "      <td>1Negative#Appointments#Staff#Treatment</td>\n",
       "    </tr>\n",
       "    <tr>\n",
       "      <th>4</th>\n",
       "      <td>5</td>\n",
       "      <td>nearby to setapak central\\r\\nwith other shoplo...</td>\n",
       "      <td>NaN</td>\n",
       "      <td>NaN</td>\n",
       "      <td>1Positive#Facilities#Staff</td>\n",
       "    </tr>\n",
       "  </tbody>\n",
       "</table>\n",
       "</div>"
      ],
      "text/plain": [
       "   id                                               text  class  sentiment  \\\n",
       "0   1  It was an overall good experience. The waiting...    NaN        NaN   \n",
       "1   2  Been there recently. Long queue as the clinic ...    NaN        NaN   \n",
       "2   3  If this is not your panel clinic so that you c...    NaN        NaN   \n",
       "3   4  Waited for more than 2 hours just to vist a do...    NaN        NaN   \n",
       "4   5  nearby to setapak central\\r\\nwith other shoplo...    NaN        NaN   \n",
       "\n",
       "                                    label  \n",
       "0                         1Positive#Staff  \n",
       "1            1Negative#Appointments#Staff  \n",
       "2            1Negative#Appointments#Staff  \n",
       "3  1Negative#Appointments#Staff#Treatment  \n",
       "4              1Positive#Facilities#Staff  "
      ]
     },
     "execution_count": 18,
     "metadata": {},
     "output_type": "execute_result"
    }
   ],
   "source": [
    "df=pd.read_csv(\"LatestData.csv\")\n",
    "df.head()"
   ]
  },
  {
   "cell_type": "code",
   "execution_count": 19,
   "metadata": {},
   "outputs": [],
   "source": [
    "def clean_text(text):\n",
    "    text = text.lower()\n",
    "    doc = nlp(text)\n",
    "    \n",
    "    text = ' '.join(token.lemma_ for token in doc if\n",
    "              not token.is_punct\n",
    "              and not token.is_currency\n",
    "              and not token.is_digit\n",
    "              and not token.is_space\n",
    "              and not token.is_stop\n",
    "                   )\n",
    "    return text"
   ]
  },
  {
   "cell_type": "code",
   "execution_count": 20,
   "metadata": {},
   "outputs": [],
   "source": [
    "df['text'] = df['text'].apply(lambda x:clean_text(x))"
   ]
  },
  {
   "cell_type": "code",
   "execution_count": 21,
   "metadata": {},
   "outputs": [],
   "source": [
    "dummies=df[\"label\"].str.get_dummies(\"#\")\n",
    "df=pd.concat([df,dummies],axis=1)\n",
    "df.loc[df[\"1Positive\"]==1,\"sentiment\"]=1\n",
    "df.loc[df[\"1Positive\"]==0,\"sentiment\"]=0"
   ]
  },
  {
   "cell_type": "code",
   "execution_count": 22,
   "metadata": {},
   "outputs": [],
   "source": [
    "dummies = dummies.drop(['1Positive', '1Negative'], axis = 1)"
   ]
  },
  {
   "cell_type": "code",
   "execution_count": 23,
   "metadata": {},
   "outputs": [],
   "source": [
    "label = list(dummies.columns)\n",
    "y = dummies.to_dict('index')"
   ]
  },
  {
   "cell_type": "code",
   "execution_count": 24,
   "metadata": {},
   "outputs": [
    {
     "name": "stdout",
     "output_type": "stream",
     "text": [
      "('overall good experience wait time long queue okay like dr hanifah doctor listen try understand go thank doc close setapak sentral incase need buy check columbia hospital incase need hospital referral lot food option', {'cats': {'Appointments': 0, 'Facilities': 0, 'Staff': 1, 'Treatment': 0}})\n"
     ]
    }
   ],
   "source": [
    "dataset = list(zip(df['text'],[{'cats': cats} for cats in y.values()]))\n",
    "print(dataset[0])\n",
    "train_data, test_data = train_test_split(dataset, train_size=0.8, random_state=13)"
   ]
  },
  {
   "cell_type": "code",
   "execution_count": 25,
   "metadata": {},
   "outputs": [],
   "source": [
    "nlp_model = spacy.load(\"./output/model-best/\")"
   ]
  },
  {
   "cell_type": "code",
   "execution_count": 26,
   "metadata": {},
   "outputs": [
    {
     "name": "stderr",
     "output_type": "stream",
     "text": [
      "275it [00:00, 911.93it/s]\n"
     ]
    }
   ],
   "source": [
    "def evaluate_model(model, data, threshold=0.5):\n",
    "\n",
    "    total_tp = 0\n",
    "    total_fp = 0\n",
    "    total_tn = 0\n",
    "    total_fn = 0\n",
    "\n",
    "    for doc, label in tqdm(nlp_model.pipe(test_data, as_tuples=True)):\n",
    "        target = np.array(list(label['cats'].values()))\n",
    "        pred = np.array(list(doc.cats.values()))\n",
    "\n",
    "        pred[pred > threshold] = 1\n",
    "        pred[pred < threshold] = 0\n",
    "\n",
    "        for idx in range(pred.shape[0]):\n",
    "            # True positive\n",
    "            if target[idx] == 1 and target[idx] == pred[idx]:\n",
    "                total_tp += 1\n",
    "            # True negative\n",
    "            elif target[idx] == 0 and target[idx] == pred[idx]:\n",
    "                total_tn += 1\n",
    "            # False negative, supposed to be 1 but predicted 0\n",
    "            elif target[idx] == 1 and target[idx] != pred[idx]:\n",
    "                total_fn += 1\n",
    "            # False positive, supposed to be 0 but predicted 1\n",
    "            elif target[idx] == 0 and target[idx] != pred[idx]:\n",
    "                total_fp += 1\n",
    "\n",
    "    return total_tp, total_tn, total_fp, total_fn\n",
    "\n",
    "tp, tn, fp, fn = evaluate_model(nlp_model, test_data)"
   ]
  },
  {
   "cell_type": "code",
   "execution_count": 27,
   "metadata": {},
   "outputs": [
    {
     "name": "stderr",
     "output_type": "stream",
     "text": [
      "275it [00:00, 1211.44it/s]\n",
      "275it [00:00, 1278.35it/s]\n",
      "275it [00:00, 1303.33it/s]\n",
      "275it [00:00, 1155.01it/s]\n",
      "275it [00:00, 941.79it/s]\n",
      "275it [00:00, 843.55it/s]\n",
      "275it [00:00, 859.39it/s]\n",
      "275it [00:00, 992.80it/s]\n",
      "275it [00:00, 1315.83it/s]\n"
     ]
    }
   ],
   "source": [
    "thresholds = [0.1, 0.2, 0.3, 0.4, 0.5, 0.6, 0.7, 0.8, 0.9]\n",
    "\n",
    "precision_vals = []\n",
    "recall_vals = []\n",
    "fpr_vals = []\n",
    "accuracies = []\n",
    "\n",
    "for threshold in thresholds:\n",
    "    tp, tn, fp, fn = evaluate_model(nlp_model, test_data, threshold)\n",
    "\n",
    "    precision = tp / (tp + fp)\n",
    "    recall = tp / (tp + fn)\n",
    "    fpr = fp / (fp + tn)\n",
    "\n",
    "    accuracy = (tp + tn) / (tp + tn + fn + fp)\n",
    "    accuracies.append(round(accuracy, 2))\n",
    "\n",
    "    precision_vals.append(precision)\n",
    "    recall_vals.append(recall)\n",
    "    fpr_vals.append(fpr)"
   ]
  },
  {
   "cell_type": "code",
   "execution_count": 28,
   "metadata": {},
   "outputs": [
    {
     "data": {
      "image/png": "[encoded data removed]",
      "text/plain": [
       "<Figure size 432x288 with 1 Axes>"
      ]
     },
     "metadata": {
      "needs_background": "light"
     },
     "output_type": "display_data"
    }
   ],
   "source": [
    "plt.plot(recall_vals, precision_vals, 'o')\n",
    "for i, (x, y) in enumerate(zip(recall_vals, precision_vals)):\n",
    "    plt.annotate(str(thresholds[i]), (x,y))\n",
    "plt.xlabel(\"Recall\")\n",
    "plt.ylabel(\"Precision\")\n",
    "plt.show()"
   ]
  },
  {
   "cell_type": "code",
   "execution_count": 29,
   "metadata": {},
   "outputs": [
    {
     "data": {
      "image/png": "[encoded data removed]",
      "text/plain": [
       "<Figure size 432x288 with 1 Axes>"
      ]
     },
     "metadata": {
      "needs_background": "light"
     },
     "output_type": "display_data"
    }
   ],
   "source": [
    "plt.plot(fpr_vals, recall_vals, 'o')\n",
    "for i, (x, y) in enumerate(zip(fpr_vals, recall_vals)):\n",
    "    plt.annotate(str(thresholds[i]), (x,y))\n",
    "plt.xlabel(\"False Positive Rate\")\n",
    "plt.ylabel(\"True Positive Rate\")\n",
    "plt.show()"
   ]
  },
  {
   "cell_type": "code",
   "execution_count": 30,
   "metadata": {},
   "outputs": [
    {
     "name": "stdout",
     "output_type": "stream",
     "text": [
      "[0.86, 0.87, 0.87, 0.87, 0.87, 0.87, 0.88, 0.88, 0.88]\n"
     ]
    }
   ],
   "source": [
    "print(accuracies)"
   ]
  },
  {
   "cell_type": "code",
   "execution_count": 31,
   "metadata": {},
   "outputs": [
    {
     "name": "stdout",
     "output_type": "stream",
     "text": [
      "[0.1, 0.2, 0.3, 0.4, 0.5, 0.6, 0.7, 0.8, 0.9]\n",
      "[0.7765237020316027, 0.7943262411347518, 0.8004807692307693, 0.8004866180048662, 0.8118811881188119, 0.8159203980099502, 0.8257575757575758, 0.8299492385786802, 0.84251968503937]\n",
      "[0.8730964467005076, 0.8527918781725888, 0.8451776649746193, 0.8350253807106599, 0.8324873096446701, 0.8324873096446701, 0.8299492385786802, 0.8299492385786802, 0.8147208121827412]\n"
     ]
    }
   ],
   "source": [
    "print(thresholds)\n",
    "print(precision_vals)\n",
    "print(recall_vals)"
   ]
  }
 ],
 "metadata": {
  "kernelspec": {
   "display_name": "Python 3.9.6 64-bit",
   "language": "python",
   "name": "python3"
  },
  "language_info": {
   "codemirror_mode": {
    "name": "ipython",
    "version": 3
   },
   "file_extension": ".py",
   "mimetype": "text/x-python",
   "name": "python",
   "nbconvert_exporter": "python",
   "pygments_lexer": "ipython3",
   "version": "3.9.6"
  },
  "orig_nbformat": 4,
  "vscode": {
   "interpreter": {
    "hash": "f63f9a4941f5ced28d26fcf65c2dd5821b4bf0a34a4db067c79f512a822b48c3"
   }
  }
 },
 "nbformat": 4,
 "nbformat_minor": 2
}
